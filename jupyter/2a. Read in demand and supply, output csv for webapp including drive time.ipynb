{
 "cells": [
  {
   "cell_type": "markdown",
   "metadata": {},
   "source": [
    "Given `demand.csv` and `supply.csv` as defined in the previous file, perform travel time lookups and output a final data file for import into the webapp"
   ]
  },
  {
   "cell_type": "code",
   "execution_count": 25,
   "metadata": {
    "collapsed": false
   },
   "outputs": [],
   "source": [
    "import pandas as pd \n",
    "demand_df = pd.read_csv(\"demand5.csv\")\n",
    "supply_df = pd.read_csv(\"supply5.csv\")"
   ]
  },
  {
   "cell_type": "code",
   "execution_count": 26,
   "metadata": {
    "collapsed": false
   },
   "outputs": [],
   "source": [
    "import itertools \n",
    "import requests\n",
    "import json\n",
    "\n",
    "import psycopg2\n",
    "import pandas as pd\n",
    "from random import randint\n",
    "import requests\n",
    "import json\n",
    "\n",
    "conn_string = \"host='localhost' dbname='postgres' user='postgres' password=''\"\n",
    "conn = psycopg2.connect(conn_string)\n",
    "cur = conn.cursor()\n",
    "\n",
    "def cartesian(df1, df2):\n",
    "    rows = itertools.product(df1.iterrows(), df2.iterrows())\n",
    "    df = pd.DataFrame(left.append(right) for (_, left), (_, right) in rows)\n",
    "    return df.reset_index(drop=True)\n",
    "\n",
    "def get_distance_duration_from_google_maps(source_lat, source_lng, dest_lat, dest_lng):\n",
    "    url = \"https://maps.googleapis.com/maps/api/distancematrix/json?origins={source_lat},{source_lng}&destinations={dest_lat},{dest_lng}\"\\\n",
    "    .format(**locals())\n",
    "    \n",
    "    r = requests.get(url)\n",
    "    d = json.loads(r.content)\n",
    "    \n",
    "    return_dict = {}\n",
    "    \n",
    "    return_dict[\"distance_route_km\"] = d[\"rows\"][0][\"elements\"][0][\"distance\"][\"value\"]/1000.0\n",
    "    return_dict[\"duration_min\"] = d[\"rows\"][0][\"elements\"][0][\"duration\"][\"value\"]/60.\n",
    "\n",
    "    return return_dict\n",
    "\n",
    "def get_distance_crow_flies(source_lat, source_lng, dest_lat, dest_lng):\n",
    "\n",
    "    sql = \"\"\"\n",
    "        select st_distance(\n",
    "            ST_Transform(ST_SetSRID(ST_MakePoint({source_lng}, {source_lat}), 4326), 27700),\n",
    "            ST_Transform(ST_SetSRID(ST_MakePoint({dest_lng}, {dest_lat}), 4326), 27700)\n",
    "        ) as distance\n",
    "    \"\"\"\n",
    "    \n",
    "    cur.execute(sql.format(**locals()))\n",
    "    \n",
    "    return {\"distance_crowflies_km\":  cur.fetchone()[0]/1000.0}"
   ]
  },
  {
   "cell_type": "code",
   "execution_count": 27,
   "metadata": {
    "collapsed": false
   },
   "outputs": [],
   "source": [
    "all_data = cartesian(demand_df, supply_df)"
   ]
  },
  {
   "cell_type": "code",
   "execution_count": 28,
   "metadata": {
    "collapsed": false
   },
   "outputs": [
    {
     "data": {
      "text/html": [
       "<div>\n",
       "<table border=\"1\" class=\"dataframe\">\n",
       "  <thead>\n",
       "    <tr style=\"text-align: right;\">\n",
       "      <th></th>\n",
       "      <th>demand</th>\n",
       "      <th>demand_id</th>\n",
       "      <th>demand_lat</th>\n",
       "      <th>demand_lng</th>\n",
       "      <th>demand_name</th>\n",
       "      <th>supply</th>\n",
       "      <th>supply_id</th>\n",
       "      <th>supply_lat</th>\n",
       "      <th>supply_lng</th>\n",
       "      <th>supply_name</th>\n",
       "    </tr>\n",
       "  </thead>\n",
       "  <tbody>\n",
       "    <tr>\n",
       "      <th>0</th>\n",
       "      <td>0.458502</td>\n",
       "      <td>0</td>\n",
       "      <td>52.594311</td>\n",
       "      <td>-0.138275</td>\n",
       "      <td>38 Willow</td>\n",
       "      <td>8.617344</td>\n",
       "      <td>0</td>\n",
       "      <td>52.554894</td>\n",
       "      <td>0.617282</td>\n",
       "      <td>Thetford</td>\n",
       "    </tr>\n",
       "    <tr>\n",
       "      <th>1</th>\n",
       "      <td>0.458502</td>\n",
       "      <td>0</td>\n",
       "      <td>52.594311</td>\n",
       "      <td>-0.138275</td>\n",
       "      <td>38 Willow</td>\n",
       "      <td>14.900903</td>\n",
       "      <td>1</td>\n",
       "      <td>54.080910</td>\n",
       "      <td>-1.459169</td>\n",
       "      <td>York</td>\n",
       "    </tr>\n",
       "    <tr>\n",
       "      <th>2</th>\n",
       "      <td>0.458502</td>\n",
       "      <td>0</td>\n",
       "      <td>52.594311</td>\n",
       "      <td>-0.138275</td>\n",
       "      <td>38 Willow</td>\n",
       "      <td>9.326675</td>\n",
       "      <td>2</td>\n",
       "      <td>53.753848</td>\n",
       "      <td>-0.673157</td>\n",
       "      <td>Wallingfen Ln</td>\n",
       "    </tr>\n",
       "    <tr>\n",
       "      <th>3</th>\n",
       "      <td>0.458502</td>\n",
       "      <td>0</td>\n",
       "      <td>52.594311</td>\n",
       "      <td>-0.138275</td>\n",
       "      <td>38 Willow</td>\n",
       "      <td>12.084897</td>\n",
       "      <td>3</td>\n",
       "      <td>52.502630</td>\n",
       "      <td>1.107698</td>\n",
       "      <td>Chapel View</td>\n",
       "    </tr>\n",
       "    <tr>\n",
       "      <th>4</th>\n",
       "      <td>0.458502</td>\n",
       "      <td>0</td>\n",
       "      <td>52.594311</td>\n",
       "      <td>-0.138275</td>\n",
       "      <td>38 Willow</td>\n",
       "      <td>15.587578</td>\n",
       "      <td>4</td>\n",
       "      <td>52.100816</td>\n",
       "      <td>1.393509</td>\n",
       "      <td>Woodbridge</td>\n",
       "    </tr>\n",
       "  </tbody>\n",
       "</table>\n",
       "</div>"
      ],
      "text/plain": [
       "     demand  demand_id  demand_lat  demand_lng demand_name     supply  \\\n",
       "0  0.458502          0   52.594311   -0.138275   38 Willow   8.617344   \n",
       "1  0.458502          0   52.594311   -0.138275   38 Willow  14.900903   \n",
       "2  0.458502          0   52.594311   -0.138275   38 Willow   9.326675   \n",
       "3  0.458502          0   52.594311   -0.138275   38 Willow  12.084897   \n",
       "4  0.458502          0   52.594311   -0.138275   38 Willow  15.587578   \n",
       "\n",
       "   supply_id  supply_lat  supply_lng    supply_name  \n",
       "0          0   52.554894    0.617282       Thetford  \n",
       "1          1   54.080910   -1.459169           York  \n",
       "2          2   53.753848   -0.673157  Wallingfen Ln  \n",
       "3          3   52.502630    1.107698    Chapel View  \n",
       "4          4   52.100816    1.393509     Woodbridge  "
      ]
     },
     "execution_count": 28,
     "metadata": {},
     "output_type": "execute_result"
    }
   ],
   "source": [
    "all_data.head()"
   ]
  },
  {
   "cell_type": "code",
   "execution_count": 29,
   "metadata": {
    "collapsed": true
   },
   "outputs": [],
   "source": [
    "def lat_lng_to_metrics(source_lat, source_lng, dest_lat, dest_lng):\n",
    "    \"\"\"\n",
    "    Given source and dest coordinates, get travel time, route distance, \n",
    "    and distance as the crow flies and return as dict\n",
    "    \"\"\"\n",
    "    d1 = get_distance_duration_from_google_maps(source_lat, source_lng, dest_lat, dest_lng)\n",
    "    d2 = get_distance_crow_flies(source_lat, source_lng, dest_lat, dest_lng)\n",
    "    d1.update(d2)\n",
    "    return d1   "
   ]
  },
  {
   "cell_type": "code",
   "execution_count": 42,
   "metadata": {
    "collapsed": false
   },
   "outputs": [],
   "source": [
    "for r in all_data[860:].iterrows():\n",
    "    index = r[0]\n",
    "    row = r[1]\n",
    "    \n",
    "    metrics = lat_lng_to_metrics(row[\"demand_lat\"], row[\"demand_lng\"], row[\"supply_lat\"], row[\"supply_lng\"])\n",
    "    \n",
    "    for key, value in metrics.iteritems(): \n",
    "        all_data.loc[index, key] = value"
   ]
  },
  {
   "cell_type": "code",
   "execution_count": 43,
   "metadata": {
    "collapsed": false
   },
   "outputs": [
    {
     "data": {
      "text/plain": [
       "(959, demand                   0.380609\n",
       " demand_id                     119\n",
       " demand_lat                51.8169\n",
       " demand_lng               -1.71263\n",
       " demand_name               Burford\n",
       " supply                    6.10625\n",
       " supply_id                       7\n",
       " supply_lat                52.4226\n",
       " supply_lng               -1.23701\n",
       " supply_name                United\n",
       " duration_min              86.6333\n",
       " distance_crowflies_km     74.8298\n",
       " distance_route_km           97.69\n",
       " Name: 959, dtype: object)"
      ]
     },
     "execution_count": 43,
     "metadata": {},
     "output_type": "execute_result"
    }
   ],
   "source": []
  },
  {
   "cell_type": "code",
   "execution_count": null,
   "metadata": {
    "collapsed": false
   },
   "outputs": [],
   "source": [
    "all_data.sort(\"duration_min\")"
   ]
  },
  {
   "cell_type": "code",
   "execution_count": 44,
   "metadata": {
    "collapsed": false
   },
   "outputs": [],
   "source": [
    "all_data.to_csv(\"all_data5.csv\", index=False)"
   ]
  },
  {
   "cell_type": "code",
   "execution_count": null,
   "metadata": {
    "collapsed": false
   },
   "outputs": [],
   "source": [
    "print \"\\n\".join(list(all_data.columns))"
   ]
  },
  {
   "cell_type": "code",
   "execution_count": null,
   "metadata": {
    "collapsed": true
   },
   "outputs": [],
   "source": []
  }
 ],
 "metadata": {
  "anaconda-cloud": {},
  "kernelspec": {
   "display_name": "Python [default]",
   "language": "python",
   "name": "python2"
  },
  "language_info": {
   "codemirror_mode": {
    "name": "ipython",
    "version": 2
   },
   "file_extension": ".py",
   "mimetype": "text/x-python",
   "name": "python",
   "nbconvert_exporter": "python",
   "pygments_lexer": "ipython2",
   "version": "2.7.12"
  }
 },
 "nbformat": 4,
 "nbformat_minor": 1
}
