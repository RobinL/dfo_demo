{
 "cells": [
  {
   "cell_type": "code",
   "execution_count": 10,
   "metadata": {
    "collapsed": false
   },
   "outputs": [],
   "source": [
    "import pandas as pd \n",
    "demand_df = pd.read_csv(\"demand3.csv\")\n",
    "supply_df = pd.read_csv(\"supply3.csv\")\n"
   ]
  },
  {
   "cell_type": "code",
   "execution_count": 11,
   "metadata": {
    "collapsed": true
   },
   "outputs": [],
   "source": [
    "import itertools \n",
    "import requests\n",
    "import json\n",
    "\n",
    "import psycopg2\n",
    "import pandas as pd\n",
    "from random import randint\n",
    "import requests\n",
    "import json\n",
    "\n",
    "conn_string = \"host='localhost' dbname='postgres' user='postgres' password=''\"\n",
    "conn = psycopg2.connect(conn_string)\n",
    "cur = conn.cursor()\n",
    "\n",
    "def cartesian(df1, df2):\n",
    "    rows = itertools.product(df1.iterrows(), df2.iterrows())\n",
    "    df = pd.DataFrame(left.append(right) for (_, left), (_, right) in rows)\n",
    "    return df.reset_index(drop=True)\n",
    "\n",
    "def get_distance_duration_from_google_maps(source_lat, source_lng, dest_lat, dest_lng):\n",
    "    url = \"https://maps.googleapis.com/maps/api/distancematrix/json?origins={source_lat},{source_lng}&destinations={dest_lat},{dest_lng}\"\\\n",
    "    .format(**locals())\n",
    "    \n",
    "    r = requests.get(url)\n",
    "    d = json.loads(r.content)\n",
    "    \n",
    "    return_dict = {}\n",
    "    \n",
    "    return_dict[\"distance_route_km\"] = d[\"rows\"][0][\"elements\"][0][\"distance\"][\"value\"]/1000.0\n",
    "    return_dict[\"duration_min\"] = d[\"rows\"][0][\"elements\"][0][\"duration\"][\"value\"]/60.\n",
    "\n",
    "    return return_dict\n",
    "\n",
    "def get_distance_crow_flies(source_lat, source_lng, dest_lat, dest_lng):\n",
    "\n",
    "    sql = \"\"\"\n",
    "        select st_distance(\n",
    "            ST_Transform(ST_SetSRID(ST_MakePoint({source_lng}, {source_lat}), 4326), 27700),\n",
    "            ST_Transform(ST_SetSRID(ST_MakePoint({dest_lng}, {dest_lat}), 4326), 27700)\n",
    "        ) as distance\n",
    "    \"\"\"\n",
    "    \n",
    "    cur.execute(sql.format(**locals()))\n",
    "    crow =  cur.fetchone()[0]/1000.0\n",
    "    return {\"distance_crowflies_km\":  crow, \"duration_min\":  crow, \"distance_route_km\":  crow}"
   ]
  },
  {
   "cell_type": "code",
   "execution_count": 12,
   "metadata": {
    "collapsed": true
   },
   "outputs": [],
   "source": [
    "all_data = cartesian(demand_df, supply_df)"
   ]
  },
  {
   "cell_type": "code",
   "execution_count": 13,
   "metadata": {
    "collapsed": true
   },
   "outputs": [],
   "source": [
    "def lat_lng_to_metrics(source_lat, source_lng, dest_lat, dest_lng):\n",
    "    \"\"\"\n",
    "    Given source and dest coordinates, get travel time, route distance, \n",
    "    and distance as the crow flies and return as dict\n",
    "    \"\"\"\n",
    "#     d1 = get_distance_duration_from_google_maps(source_lat, source_lng, dest_lat, dest_lng)\n",
    "    d1 = get_distance_crow_flies(source_lat, source_lng, dest_lat, dest_lng)\n",
    "#     d1.update(d2)\n",
    "    return d1   "
   ]
  },
  {
   "cell_type": "code",
   "execution_count": 14,
   "metadata": {
    "collapsed": true
   },
   "outputs": [],
   "source": [
    "for r in all_data.iterrows():\n",
    "    index = r[0]\n",
    "    row = r[1]\n",
    "    \n",
    "    metrics = lat_lng_to_metrics(row[\"demand_lat\"], row[\"demand_lng\"], row[\"supply_lat\"], row[\"supply_lng\"])\n",
    "    \n",
    "    for key, value in metrics.iteritems(): \n",
    "        all_data.loc[index, key] = value"
   ]
  },
  {
   "cell_type": "code",
   "execution_count": 15,
   "metadata": {
    "collapsed": true
   },
   "outputs": [],
   "source": [
    "all_data.to_csv(\"all_data3.csv\", index=False)"
   ]
  }
 ],
 "metadata": {
  "anaconda-cloud": {},
  "kernelspec": {
   "display_name": "Python [conda root]",
   "language": "python",
   "name": "conda-root-py"
  },
  "language_info": {
   "codemirror_mode": {
    "name": "ipython",
    "version": 2
   },
   "file_extension": ".py",
   "mimetype": "text/x-python",
   "name": "python",
   "nbconvert_exporter": "python",
   "pygments_lexer": "ipython2",
   "version": "2.7.12"
  }
 },
 "nbformat": 4,
 "nbformat_minor": 1
}
